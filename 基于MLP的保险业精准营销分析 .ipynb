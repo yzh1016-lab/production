{
 "cells": [
  {
   "cell_type": "markdown",
   "id": "862d22c3-0184-4146-8e32-41343a7c2f30",
   "metadata": {},
   "source": [
    "                                 利用MLP进行保险客户的画像分析以及购买理财产品的意愿预测"
   ]
  },
  {
   "cell_type": "code",
   "execution_count": 1,
   "id": "ff844c4b-6c35-472b-8b77-df266bb44d95",
   "metadata": {},
   "outputs": [],
   "source": [
    "import pandas as pd\n",
    "import numpy as np\n",
    "import torch\n",
    "import torch.nn as nn\n",
    "from sklearn.model_selection import train_test_split\n",
    "from sklearn.metrics import accuracy_score\n",
    "from sklearn.preprocessing import StandardScaler"
   ]
  },
  {
   "cell_type": "markdown",
   "id": "9d2e3dc8-db98-4f9d-bd8b-5c4d6ff349d0",
   "metadata": {},
   "source": [
    "一、导入数据"
   ]
  },
  {
   "cell_type": "code",
   "execution_count": 5,
   "id": "f4a17039-2262-410e-be1a-d9364bdb5321",
   "metadata": {},
   "outputs": [
    {
     "data": {
      "text/html": [
       "<div>\n",
       "<style scoped>\n",
       "    .dataframe tbody tr th:only-of-type {\n",
       "        vertical-align: middle;\n",
       "    }\n",
       "\n",
       "    .dataframe tbody tr th {\n",
       "        vertical-align: top;\n",
       "    }\n",
       "\n",
       "    .dataframe thead th {\n",
       "        text-align: right;\n",
       "    }\n",
       "</style>\n",
       "<table border=\"1\" class=\"dataframe\">\n",
       "  <thead>\n",
       "    <tr style=\"text-align: right;\">\n",
       "      <th></th>\n",
       "      <th>X1</th>\n",
       "      <th>X2</th>\n",
       "      <th>X3</th>\n",
       "      <th>X4</th>\n",
       "      <th>X5</th>\n",
       "      <th>X6</th>\n",
       "      <th>X7</th>\n",
       "      <th>X8</th>\n",
       "      <th>X9</th>\n",
       "      <th>X10</th>\n",
       "      <th>...</th>\n",
       "      <th>X77</th>\n",
       "      <th>X78</th>\n",
       "      <th>X79</th>\n",
       "      <th>X80</th>\n",
       "      <th>X81</th>\n",
       "      <th>X82</th>\n",
       "      <th>X83</th>\n",
       "      <th>X84</th>\n",
       "      <th>X85</th>\n",
       "      <th>Y</th>\n",
       "    </tr>\n",
       "  </thead>\n",
       "  <tbody>\n",
       "    <tr>\n",
       "      <th>0</th>\n",
       "      <td>33</td>\n",
       "      <td>1</td>\n",
       "      <td>3</td>\n",
       "      <td>2</td>\n",
       "      <td>8</td>\n",
       "      <td>0</td>\n",
       "      <td>5</td>\n",
       "      <td>1</td>\n",
       "      <td>3</td>\n",
       "      <td>7</td>\n",
       "      <td>...</td>\n",
       "      <td>0</td>\n",
       "      <td>0</td>\n",
       "      <td>0</td>\n",
       "      <td>1</td>\n",
       "      <td>0</td>\n",
       "      <td>0</td>\n",
       "      <td>0</td>\n",
       "      <td>0</td>\n",
       "      <td>0</td>\n",
       "      <td>0</td>\n",
       "    </tr>\n",
       "    <tr>\n",
       "      <th>1</th>\n",
       "      <td>37</td>\n",
       "      <td>1</td>\n",
       "      <td>2</td>\n",
       "      <td>2</td>\n",
       "      <td>8</td>\n",
       "      <td>1</td>\n",
       "      <td>4</td>\n",
       "      <td>1</td>\n",
       "      <td>4</td>\n",
       "      <td>6</td>\n",
       "      <td>...</td>\n",
       "      <td>0</td>\n",
       "      <td>0</td>\n",
       "      <td>0</td>\n",
       "      <td>1</td>\n",
       "      <td>0</td>\n",
       "      <td>0</td>\n",
       "      <td>0</td>\n",
       "      <td>0</td>\n",
       "      <td>0</td>\n",
       "      <td>0</td>\n",
       "    </tr>\n",
       "    <tr>\n",
       "      <th>2</th>\n",
       "      <td>37</td>\n",
       "      <td>1</td>\n",
       "      <td>2</td>\n",
       "      <td>2</td>\n",
       "      <td>8</td>\n",
       "      <td>0</td>\n",
       "      <td>4</td>\n",
       "      <td>2</td>\n",
       "      <td>4</td>\n",
       "      <td>3</td>\n",
       "      <td>...</td>\n",
       "      <td>0</td>\n",
       "      <td>0</td>\n",
       "      <td>0</td>\n",
       "      <td>1</td>\n",
       "      <td>0</td>\n",
       "      <td>0</td>\n",
       "      <td>0</td>\n",
       "      <td>0</td>\n",
       "      <td>0</td>\n",
       "      <td>0</td>\n",
       "    </tr>\n",
       "    <tr>\n",
       "      <th>3</th>\n",
       "      <td>9</td>\n",
       "      <td>1</td>\n",
       "      <td>3</td>\n",
       "      <td>3</td>\n",
       "      <td>3</td>\n",
       "      <td>2</td>\n",
       "      <td>3</td>\n",
       "      <td>2</td>\n",
       "      <td>4</td>\n",
       "      <td>5</td>\n",
       "      <td>...</td>\n",
       "      <td>0</td>\n",
       "      <td>0</td>\n",
       "      <td>0</td>\n",
       "      <td>1</td>\n",
       "      <td>0</td>\n",
       "      <td>0</td>\n",
       "      <td>0</td>\n",
       "      <td>0</td>\n",
       "      <td>0</td>\n",
       "      <td>0</td>\n",
       "    </tr>\n",
       "    <tr>\n",
       "      <th>4</th>\n",
       "      <td>40</td>\n",
       "      <td>1</td>\n",
       "      <td>4</td>\n",
       "      <td>2</td>\n",
       "      <td>10</td>\n",
       "      <td>1</td>\n",
       "      <td>4</td>\n",
       "      <td>1</td>\n",
       "      <td>4</td>\n",
       "      <td>7</td>\n",
       "      <td>...</td>\n",
       "      <td>0</td>\n",
       "      <td>0</td>\n",
       "      <td>0</td>\n",
       "      <td>1</td>\n",
       "      <td>0</td>\n",
       "      <td>0</td>\n",
       "      <td>0</td>\n",
       "      <td>0</td>\n",
       "      <td>0</td>\n",
       "      <td>0</td>\n",
       "    </tr>\n",
       "  </tbody>\n",
       "</table>\n",
       "<p>5 rows × 86 columns</p>\n",
       "</div>"
      ],
      "text/plain": [
       "   X1  X2  X3  X4  X5  X6  X7  X8  X9  X10  ...  X77  X78  X79  X80  X81  X82  \\\n",
       "0  33   1   3   2   8   0   5   1   3    7  ...    0    0    0    1    0    0   \n",
       "1  37   1   2   2   8   1   4   1   4    6  ...    0    0    0    1    0    0   \n",
       "2  37   1   2   2   8   0   4   2   4    3  ...    0    0    0    1    0    0   \n",
       "3   9   1   3   3   3   2   3   2   4    5  ...    0    0    0    1    0    0   \n",
       "4  40   1   4   2  10   1   4   1   4    7  ...    0    0    0    1    0    0   \n",
       "\n",
       "   X83  X84  X85  Y  \n",
       "0    0    0    0  0  \n",
       "1    0    0    0  0  \n",
       "2    0    0    0  0  \n",
       "3    0    0    0  0  \n",
       "4    0    0    0  0  \n",
       "\n",
       "[5 rows x 86 columns]"
      ]
     },
     "execution_count": 5,
     "metadata": {},
     "output_type": "execute_result"
    }
   ],
   "source": [
    "dataset=pd.read_csv(r\"E:\\学习资料\\金融大数据\\保险业精准营销模型\\Insurance.csv\")\n",
    "dataset.head()"
   ]
  },
  {
   "cell_type": "markdown",
   "id": "dc218c41-5838-4c75-96ae-49af657da321",
   "metadata": {},
   "source": [
    "二、数据预处理"
   ]
  },
  {
   "cell_type": "code",
   "execution_count": 7,
   "id": "9443e68f-f67d-4393-88c4-e2f6d6bf661d",
   "metadata": {
    "scrolled": true
   },
   "outputs": [
    {
     "data": {
      "text/plain": [
       "<bound method NDFrame.describe of       X1  X2  X3  X4  X5  X6  X7  X8  X9  X10  ...  X77  X78  X79  X80  X81  \\\n",
       "0     33   1   3   2   8   0   5   1   3    7  ...    0    0    0    1    0   \n",
       "1     37   1   2   2   8   1   4   1   4    6  ...    0    0    0    1    0   \n",
       "2     37   1   2   2   8   0   4   2   4    3  ...    0    0    0    1    0   \n",
       "3      9   1   3   3   3   2   3   2   4    5  ...    0    0    0    1    0   \n",
       "4     40   1   4   2  10   1   4   1   4    7  ...    0    0    0    1    0   \n",
       "...   ..  ..  ..  ..  ..  ..  ..  ..  ..  ...  ...  ...  ...  ...  ...  ...   \n",
       "5817  36   1   1   2   8   0   6   1   2    1  ...    0    0    0    1    0   \n",
       "5818  35   1   4   4   8   1   4   1   4    6  ...    0    0    0    1    0   \n",
       "5819  33   1   3   4   8   0   6   0   3    5  ...    0    0    0    1    0   \n",
       "5820  34   1   3   2   8   0   7   0   2    7  ...    0    0    0    0    0   \n",
       "5821  33   1   3   3   8   0   6   1   2    7  ...    0    0    0    0    0   \n",
       "\n",
       "      X82  X83  X84  X85  Y  \n",
       "0       0    0    0    0  0  \n",
       "1       0    0    0    0  0  \n",
       "2       0    0    0    0  0  \n",
       "3       0    0    0    0  0  \n",
       "4       0    0    0    0  0  \n",
       "...   ...  ...  ...  ... ..  \n",
       "5817    0    0    0    0  0  \n",
       "5818    0    0    0    0  0  \n",
       "5819    0    0    0    0  1  \n",
       "5820    0    0    0    0  0  \n",
       "5821    0    0    0    0  0  \n",
       "\n",
       "[5822 rows x 86 columns]>"
      ]
     },
     "execution_count": 7,
     "metadata": {},
     "output_type": "execute_result"
    }
   ],
   "source": [
    "dataset.describe"
   ]
  },
  {
   "cell_type": "code",
   "execution_count": 13,
   "id": "569d692a-e3f0-4f12-bcf6-2fcfcbc32ca7",
   "metadata": {},
   "outputs": [
    {
     "data": {
      "text/plain": [
       "X1     0\n",
       "X2     0\n",
       "X3     0\n",
       "X4     0\n",
       "X5     0\n",
       "      ..\n",
       "X82    0\n",
       "X83    0\n",
       "X84    0\n",
       "X85    0\n",
       "Y      0\n",
       "Length: 86, dtype: int64"
      ]
     },
     "execution_count": 13,
     "metadata": {},
     "output_type": "execute_result"
    }
   ],
   "source": [
    "dataset.isnull().sum()"
   ]
  },
  {
   "cell_type": "code",
   "execution_count": 15,
   "id": "e99c2e45-2d6c-4a20-b4cd-8debee95e7ff",
   "metadata": {},
   "outputs": [
    {
     "data": {
      "text/plain": [
       "(5822, 86)"
      ]
     },
     "execution_count": 15,
     "metadata": {},
     "output_type": "execute_result"
    }
   ],
   "source": [
    "dataset.shape"
   ]
  },
  {
   "cell_type": "code",
   "execution_count": 19,
   "id": "aff08bc6-55f3-49bf-bed7-b23568a66290",
   "metadata": {},
   "outputs": [
    {
     "data": {
      "text/plain": [
       "(5822, 86)"
      ]
     },
     "execution_count": 19,
     "metadata": {},
     "output_type": "execute_result"
    }
   ],
   "source": [
    "dataset=dataset.dropna()\n",
    "dataset.shape"
   ]
  },
  {
   "cell_type": "code",
   "execution_count": 25,
   "id": "2f3ba27f-83de-4c40-8bfc-0113f2fb52eb",
   "metadata": {},
   "outputs": [
    {
     "data": {
      "text/html": [
       "<div>\n",
       "<style scoped>\n",
       "    .dataframe tbody tr th:only-of-type {\n",
       "        vertical-align: middle;\n",
       "    }\n",
       "\n",
       "    .dataframe tbody tr th {\n",
       "        vertical-align: top;\n",
       "    }\n",
       "\n",
       "    .dataframe thead th {\n",
       "        text-align: right;\n",
       "    }\n",
       "</style>\n",
       "<table border=\"1\" class=\"dataframe\">\n",
       "  <thead>\n",
       "    <tr style=\"text-align: right;\">\n",
       "      <th></th>\n",
       "      <th>X1</th>\n",
       "      <th>X2</th>\n",
       "      <th>X3</th>\n",
       "      <th>X4</th>\n",
       "      <th>X5</th>\n",
       "      <th>X6</th>\n",
       "      <th>X7</th>\n",
       "      <th>X8</th>\n",
       "      <th>X9</th>\n",
       "      <th>X10</th>\n",
       "      <th>...</th>\n",
       "      <th>X76</th>\n",
       "      <th>X77</th>\n",
       "      <th>X78</th>\n",
       "      <th>X79</th>\n",
       "      <th>X80</th>\n",
       "      <th>X81</th>\n",
       "      <th>X82</th>\n",
       "      <th>X83</th>\n",
       "      <th>X84</th>\n",
       "      <th>X85</th>\n",
       "    </tr>\n",
       "    <tr>\n",
       "      <th>Y</th>\n",
       "      <th></th>\n",
       "      <th></th>\n",
       "      <th></th>\n",
       "      <th></th>\n",
       "      <th></th>\n",
       "      <th></th>\n",
       "      <th></th>\n",
       "      <th></th>\n",
       "      <th></th>\n",
       "      <th></th>\n",
       "      <th></th>\n",
       "      <th></th>\n",
       "      <th></th>\n",
       "      <th></th>\n",
       "      <th></th>\n",
       "      <th></th>\n",
       "      <th></th>\n",
       "      <th></th>\n",
       "      <th></th>\n",
       "      <th></th>\n",
       "      <th></th>\n",
       "    </tr>\n",
       "  </thead>\n",
       "  <tbody>\n",
       "    <tr>\n",
       "      <th>0</th>\n",
       "      <td>5474</td>\n",
       "      <td>5474</td>\n",
       "      <td>5474</td>\n",
       "      <td>5474</td>\n",
       "      <td>5474</td>\n",
       "      <td>5474</td>\n",
       "      <td>5474</td>\n",
       "      <td>5474</td>\n",
       "      <td>5474</td>\n",
       "      <td>5474</td>\n",
       "      <td>...</td>\n",
       "      <td>5474</td>\n",
       "      <td>5474</td>\n",
       "      <td>5474</td>\n",
       "      <td>5474</td>\n",
       "      <td>5474</td>\n",
       "      <td>5474</td>\n",
       "      <td>5474</td>\n",
       "      <td>5474</td>\n",
       "      <td>5474</td>\n",
       "      <td>5474</td>\n",
       "    </tr>\n",
       "    <tr>\n",
       "      <th>1</th>\n",
       "      <td>348</td>\n",
       "      <td>348</td>\n",
       "      <td>348</td>\n",
       "      <td>348</td>\n",
       "      <td>348</td>\n",
       "      <td>348</td>\n",
       "      <td>348</td>\n",
       "      <td>348</td>\n",
       "      <td>348</td>\n",
       "      <td>348</td>\n",
       "      <td>...</td>\n",
       "      <td>348</td>\n",
       "      <td>348</td>\n",
       "      <td>348</td>\n",
       "      <td>348</td>\n",
       "      <td>348</td>\n",
       "      <td>348</td>\n",
       "      <td>348</td>\n",
       "      <td>348</td>\n",
       "      <td>348</td>\n",
       "      <td>348</td>\n",
       "    </tr>\n",
       "  </tbody>\n",
       "</table>\n",
       "<p>2 rows × 85 columns</p>\n",
       "</div>"
      ],
      "text/plain": [
       "     X1    X2    X3    X4    X5    X6    X7    X8    X9   X10  ...   X76  \\\n",
       "Y                                                              ...         \n",
       "0  5474  5474  5474  5474  5474  5474  5474  5474  5474  5474  ...  5474   \n",
       "1   348   348   348   348   348   348   348   348   348   348  ...   348   \n",
       "\n",
       "    X77   X78   X79   X80   X81   X82   X83   X84   X85  \n",
       "Y                                                        \n",
       "0  5474  5474  5474  5474  5474  5474  5474  5474  5474  \n",
       "1   348   348   348   348   348   348   348   348   348  \n",
       "\n",
       "[2 rows x 85 columns]"
      ]
     },
     "execution_count": 25,
     "metadata": {},
     "output_type": "execute_result"
    }
   ],
   "source": [
    "##查看数据是否均衡\n",
    "dataset.groupby(\"Y\").count()"
   ]
  },
  {
   "cell_type": "code",
   "execution_count": 30,
   "id": "d90413e7-640d-475e-a5a3-07fe23695a44",
   "metadata": {},
   "outputs": [
    {
     "data": {
      "text/plain": [
       "Index(['X1', 'X2', 'X3', 'X4', 'X5', 'X6', 'X7', 'X8', 'X9', 'X10', 'X11',\n",
       "       'X12', 'X13', 'X14', 'X15', 'X16', 'X17', 'X18', 'X19', 'X20', 'X21',\n",
       "       'X22', 'X23', 'X24', 'X25', 'X26', 'X27', 'X28', 'X29', 'X30', 'X31',\n",
       "       'X32', 'X33', 'X34', 'X35', 'X36', 'X37', 'X38', 'X39', 'X40', 'X41',\n",
       "       'X42', 'X43', 'X44', 'X45', 'X46', 'X47', 'X48', 'X49', 'X50', 'X51',\n",
       "       'X52', 'X53', 'X54', 'X55', 'X56', 'X57', 'X58', 'X59', 'X60', 'X61',\n",
       "       'X62', 'X63', 'X64', 'X65', 'X66', 'X67', 'X68', 'X69', 'X70', 'X71',\n",
       "       'X72', 'X73', 'X74', 'X75', 'X76', 'X77', 'X78', 'X79', 'X80', 'X81',\n",
       "       'X82', 'X83', 'X84', 'X85', 'Y'],\n",
       "      dtype='object')"
      ]
     },
     "execution_count": 30,
     "metadata": {},
     "output_type": "execute_result"
    }
   ],
   "source": [
    "cols=dataset.keys()\n",
    "cols"
   ]
  },
  {
   "cell_type": "code",
   "execution_count": 32,
   "id": "7c8320b8-9836-4b72-9828-a483153ee1e4",
   "metadata": {},
   "outputs": [
    {
     "data": {
      "text/html": [
       "<div>\n",
       "<style scoped>\n",
       "    .dataframe tbody tr th:only-of-type {\n",
       "        vertical-align: middle;\n",
       "    }\n",
       "\n",
       "    .dataframe tbody tr th {\n",
       "        vertical-align: top;\n",
       "    }\n",
       "\n",
       "    .dataframe thead th {\n",
       "        text-align: right;\n",
       "    }\n",
       "</style>\n",
       "<table border=\"1\" class=\"dataframe\">\n",
       "  <thead>\n",
       "    <tr style=\"text-align: right;\">\n",
       "      <th></th>\n",
       "      <th>X1</th>\n",
       "      <th>X2</th>\n",
       "      <th>X3</th>\n",
       "      <th>X4</th>\n",
       "      <th>X5</th>\n",
       "      <th>X6</th>\n",
       "      <th>X7</th>\n",
       "      <th>X8</th>\n",
       "      <th>X9</th>\n",
       "      <th>X10</th>\n",
       "      <th>...</th>\n",
       "      <th>X76</th>\n",
       "      <th>X77</th>\n",
       "      <th>X78</th>\n",
       "      <th>X79</th>\n",
       "      <th>X80</th>\n",
       "      <th>X81</th>\n",
       "      <th>X82</th>\n",
       "      <th>X83</th>\n",
       "      <th>X84</th>\n",
       "      <th>X85</th>\n",
       "    </tr>\n",
       "  </thead>\n",
       "  <tbody>\n",
       "    <tr>\n",
       "      <th>0</th>\n",
       "      <td>33</td>\n",
       "      <td>1</td>\n",
       "      <td>3</td>\n",
       "      <td>2</td>\n",
       "      <td>8</td>\n",
       "      <td>0</td>\n",
       "      <td>5</td>\n",
       "      <td>1</td>\n",
       "      <td>3</td>\n",
       "      <td>7</td>\n",
       "      <td>...</td>\n",
       "      <td>0</td>\n",
       "      <td>0</td>\n",
       "      <td>0</td>\n",
       "      <td>0</td>\n",
       "      <td>1</td>\n",
       "      <td>0</td>\n",
       "      <td>0</td>\n",
       "      <td>0</td>\n",
       "      <td>0</td>\n",
       "      <td>0</td>\n",
       "    </tr>\n",
       "    <tr>\n",
       "      <th>1</th>\n",
       "      <td>37</td>\n",
       "      <td>1</td>\n",
       "      <td>2</td>\n",
       "      <td>2</td>\n",
       "      <td>8</td>\n",
       "      <td>1</td>\n",
       "      <td>4</td>\n",
       "      <td>1</td>\n",
       "      <td>4</td>\n",
       "      <td>6</td>\n",
       "      <td>...</td>\n",
       "      <td>0</td>\n",
       "      <td>0</td>\n",
       "      <td>0</td>\n",
       "      <td>0</td>\n",
       "      <td>1</td>\n",
       "      <td>0</td>\n",
       "      <td>0</td>\n",
       "      <td>0</td>\n",
       "      <td>0</td>\n",
       "      <td>0</td>\n",
       "    </tr>\n",
       "    <tr>\n",
       "      <th>2</th>\n",
       "      <td>37</td>\n",
       "      <td>1</td>\n",
       "      <td>2</td>\n",
       "      <td>2</td>\n",
       "      <td>8</td>\n",
       "      <td>0</td>\n",
       "      <td>4</td>\n",
       "      <td>2</td>\n",
       "      <td>4</td>\n",
       "      <td>3</td>\n",
       "      <td>...</td>\n",
       "      <td>0</td>\n",
       "      <td>0</td>\n",
       "      <td>0</td>\n",
       "      <td>0</td>\n",
       "      <td>1</td>\n",
       "      <td>0</td>\n",
       "      <td>0</td>\n",
       "      <td>0</td>\n",
       "      <td>0</td>\n",
       "      <td>0</td>\n",
       "    </tr>\n",
       "    <tr>\n",
       "      <th>3</th>\n",
       "      <td>9</td>\n",
       "      <td>1</td>\n",
       "      <td>3</td>\n",
       "      <td>3</td>\n",
       "      <td>3</td>\n",
       "      <td>2</td>\n",
       "      <td>3</td>\n",
       "      <td>2</td>\n",
       "      <td>4</td>\n",
       "      <td>5</td>\n",
       "      <td>...</td>\n",
       "      <td>0</td>\n",
       "      <td>0</td>\n",
       "      <td>0</td>\n",
       "      <td>0</td>\n",
       "      <td>1</td>\n",
       "      <td>0</td>\n",
       "      <td>0</td>\n",
       "      <td>0</td>\n",
       "      <td>0</td>\n",
       "      <td>0</td>\n",
       "    </tr>\n",
       "    <tr>\n",
       "      <th>4</th>\n",
       "      <td>40</td>\n",
       "      <td>1</td>\n",
       "      <td>4</td>\n",
       "      <td>2</td>\n",
       "      <td>10</td>\n",
       "      <td>1</td>\n",
       "      <td>4</td>\n",
       "      <td>1</td>\n",
       "      <td>4</td>\n",
       "      <td>7</td>\n",
       "      <td>...</td>\n",
       "      <td>0</td>\n",
       "      <td>0</td>\n",
       "      <td>0</td>\n",
       "      <td>0</td>\n",
       "      <td>1</td>\n",
       "      <td>0</td>\n",
       "      <td>0</td>\n",
       "      <td>0</td>\n",
       "      <td>0</td>\n",
       "      <td>0</td>\n",
       "    </tr>\n",
       "  </tbody>\n",
       "</table>\n",
       "<p>5 rows × 85 columns</p>\n",
       "</div>"
      ],
      "text/plain": [
       "   X1  X2  X3  X4  X5  X6  X7  X8  X9  X10  ...  X76  X77  X78  X79  X80  X81  \\\n",
       "0  33   1   3   2   8   0   5   1   3    7  ...    0    0    0    0    1    0   \n",
       "1  37   1   2   2   8   1   4   1   4    6  ...    0    0    0    0    1    0   \n",
       "2  37   1   2   2   8   0   4   2   4    3  ...    0    0    0    0    1    0   \n",
       "3   9   1   3   3   3   2   3   2   4    5  ...    0    0    0    0    1    0   \n",
       "4  40   1   4   2  10   1   4   1   4    7  ...    0    0    0    0    1    0   \n",
       "\n",
       "   X82  X83  X84  X85  \n",
       "0    0    0    0    0  \n",
       "1    0    0    0    0  \n",
       "2    0    0    0    0  \n",
       "3    0    0    0    0  \n",
       "4    0    0    0    0  \n",
       "\n",
       "[5 rows x 85 columns]"
      ]
     },
     "execution_count": 32,
     "metadata": {},
     "output_type": "execute_result"
    }
   ],
   "source": [
    "cols_x=cols[:-1]\n",
    "cols_y=cols[-1]\n",
    "X=dataset[cols_x]\n",
    "Y=dataset[cols_y]\n",
    "X.head()"
   ]
  },
  {
   "cell_type": "code",
   "execution_count": 40,
   "id": "053e41d7-43db-4b13-bf0a-340096c12d20",
   "metadata": {},
   "outputs": [],
   "source": [
    "x_train,x_test,y_train,y_test=train_test_split(X,Y,train_size=0.8)"
   ]
  },
  {
   "cell_type": "code",
   "execution_count": 59,
   "id": "403ebf07-de1f-4e27-bec5-fa8e61f17662",
   "metadata": {},
   "outputs": [],
   "source": [
    "Xtrain=torch.tensor(x_train.to_numpy(),dtype=torch.float32)\n",
    "Ytrain=torch.tensor(y_train.to_numpy(),dtype=torch.float32)\n",
    "Xtest=torch.tensor(x_test.to_numpy(),dtype=torch.float32)"
   ]
  },
  {
   "cell_type": "markdown",
   "id": "c43ff619-2e32-4099-9206-b3abd1b89c1e",
   "metadata": {},
   "source": [
    "三、模型构建"
   ]
  },
  {
   "cell_type": "code",
   "execution_count": 47,
   "id": "fa002ddb-10c0-4280-8a70-76d90b69cc70",
   "metadata": {},
   "outputs": [],
   "source": [
    "##定义MLP多层感知机模型\n",
    "class MLP(nn.Module):\n",
    "    def __init__(self,input_size,hidden_size,output_size):\n",
    "        super(MLP, self).__init__()\n",
    "        self.linear1=nn.Linear(input_size,hidden_size)\n",
    "        self.relu=nn.ReLU()\n",
    "        self.linear2=nn.Linear(hidden_size,output_size)\n",
    "    \n",
    "    def forward(self,x):\n",
    "        out=self.linear1(x)\n",
    "        out=self.relu(out)\n",
    "        out=self.linear2(out)\n",
    "        return out"
   ]
  },
  {
   "cell_type": "code",
   "execution_count": 63,
   "id": "83aea039-0c4a-4f60-954c-8bfa9ee47256",
   "metadata": {},
   "outputs": [
    {
     "data": {
      "text/plain": [
       "85"
      ]
     },
     "execution_count": 63,
     "metadata": {},
     "output_type": "execute_result"
    }
   ],
   "source": [
    "Ytrain=Ytrain.view(Ytrain.shape[0],1)##因为下面的经过forward()计算得到的output是一个二维矩阵所以要把一维向量Ytrain也变成二维的！！！\n",
    "input_size=Xtrain.shape[1]\n",
    "hidden_size=50\n",
    "output_size=1\n",
    "input_size"
   ]
  },
  {
   "cell_type": "code",
   "execution_count": 53,
   "id": "4c74b42d-97ba-4efb-aa25-a2b286eaf3fd",
   "metadata": {},
   "outputs": [],
   "source": [
    "model=MLP(input_size,hidden_size,output_size)\n",
    "criterion=nn.BCEWithLogitsLoss()\n",
    "optimizer=torch.optim.Adam(model.parameters(),lr=1e3)"
   ]
  },
  {
   "cell_type": "code",
   "execution_count": 79,
   "id": "db92f5b6-38af-4ab1-bb64-bd14c66a3521",
   "metadata": {},
   "outputs": [
    {
     "name": "stdout",
     "output_type": "stream",
     "text": [
      "第100次训练。训练误差为：44.22959518432617\n",
      "第200次训练。训练误差为：36.005157470703125\n",
      "第300次训练。训练误差为：36.14932632446289\n",
      "第400次训练。训练误差为：34.17472839355469\n",
      "第500次训练。训练误差为：25.575428009033203\n",
      "第600次训练。训练误差为：23.743215560913086\n",
      "第700次训练。训练误差为：20.20291519165039\n",
      "第800次训练。训练误差为：11.297861099243164\n",
      "第900次训练。训练误差为：7.8614702224731445\n",
      "第1000次训练。训练误差为：3.0499396324157715\n"
     ]
    }
   ],
   "source": [
    "##模型训练\n",
    "epochs=1000\n",
    "for epoch in range(epochs):\n",
    "    model.train()\n",
    "    output=model.forward(Xtrain)\n",
    "    loss=criterion(output,Ytrain)\n",
    "    optimizer.zero_grad()\n",
    "    loss.backward()\n",
    "    optimizer.step()\n",
    "    if (epoch+1)%100==0:\n",
    "        print(f\"第{epoch+1}次训练。训练误差为：{loss}\")"
   ]
  },
  {
   "cell_type": "code",
   "execution_count": 117,
   "id": "104761f7-700a-4d50-8b5b-626ec85a316e",
   "metadata": {},
   "outputs": [],
   "source": [
    "##模型预测与评估\n",
    "model.eval()\n",
    "with torch.no_grad():\n",
    "    outputs = model(Xtest)\n",
    "    _, predicted = torch.max(outputs, 1)"
   ]
  },
  {
   "cell_type": "code",
   "execution_count": 119,
   "id": "1315999f-ea1e-4486-b4c3-5402c816eac1",
   "metadata": {},
   "outputs": [],
   "source": [
    "predicted=predicted.tolist()"
   ]
  },
  {
   "cell_type": "code",
   "execution_count": 130,
   "id": "c4dffa94-b4da-46f8-8f5e-ce12523b5487",
   "metadata": {},
   "outputs": [
    {
     "name": "stdout",
     "output_type": "stream",
     "text": [
      "预测准确度为：0.9424892703862661\n"
     ]
    }
   ],
   "source": [
    "##这里y_test,predicted变量都是一维向量\n",
    "score=accuracy_score(y_test,predicted)\n",
    "print(f\"预测准确度为：{score}\")"
   ]
  },
  {
   "cell_type": "code",
   "execution_count": null,
   "id": "b4c08a61-942a-4af6-bc10-b787ae3e3c5d",
   "metadata": {},
   "outputs": [],
   "source": []
  }
 ],
 "metadata": {
  "kernelspec": {
   "display_name": "Python [conda env:base] *",
   "language": "python",
   "name": "conda-base-py"
  },
  "language_info": {
   "codemirror_mode": {
    "name": "ipython",
    "version": 3
   },
   "file_extension": ".py",
   "mimetype": "text/x-python",
   "name": "python",
   "nbconvert_exporter": "python",
   "pygments_lexer": "ipython3",
   "version": "3.12.7"
  }
 },
 "nbformat": 4,
 "nbformat_minor": 5
}
