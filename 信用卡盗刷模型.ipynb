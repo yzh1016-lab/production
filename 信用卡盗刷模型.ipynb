{
 "cells": [
  {
   "cell_type": "markdown",
   "id": "e9569269-4fb3-4f06-93c6-c28d10cb43c8",
   "metadata": {},
   "source": [
    "                                          利用Logistic回归的信用卡盗刷案例分析"
   ]
  },
  {
   "cell_type": "code",
   "execution_count": 148,
   "id": "8d8d46da-1001-4f5e-8591-e5f35d60e3e9",
   "metadata": {},
   "outputs": [],
   "source": [
    "import numpy as np\n",
    "import pandas as pd\n",
    "import scipy\n",
    "import sklearn\n",
    "import matplotlib.pyplot as plt\n",
    "import seaborn\n",
    "from sklearn.linear_model import LogisticRegression\n",
    "from sklearn.model_selection import train_test_split\n",
    "from sklearn.metrics import accuracy_score"
   ]
  },
  {
   "cell_type": "code",
   "execution_count": 13,
   "id": "1e32daa5-2ede-490f-b11d-721309949efa",
   "metadata": {},
   "outputs": [
    {
     "data": {
      "text/html": [
       "<div>\n",
       "<style scoped>\n",
       "    .dataframe tbody tr th:only-of-type {\n",
       "        vertical-align: middle;\n",
       "    }\n",
       "\n",
       "    .dataframe tbody tr th {\n",
       "        vertical-align: top;\n",
       "    }\n",
       "\n",
       "    .dataframe thead th {\n",
       "        text-align: right;\n",
       "    }\n",
       "</style>\n",
       "<table border=\"1\" class=\"dataframe\">\n",
       "  <thead>\n",
       "    <tr style=\"text-align: right;\">\n",
       "      <th></th>\n",
       "      <th>Unnamed: 0</th>\n",
       "      <th>传输等级</th>\n",
       "      <th>卡等级</th>\n",
       "      <th>线上交易</th>\n",
       "      <th>ip与设备地址匹配</th>\n",
       "      <th>ip在国外</th>\n",
       "      <th>ip为空</th>\n",
       "      <th>设备编码为空</th>\n",
       "      <th>ip异城市</th>\n",
       "      <th>设备异省</th>\n",
       "      <th>设备异城市</th>\n",
       "      <th>高风险交易标识</th>\n",
       "      <th>大额交易</th>\n",
       "      <th>异常时间</th>\n",
       "      <th>ip在高风险区域</th>\n",
       "    </tr>\n",
       "  </thead>\n",
       "  <tbody>\n",
       "    <tr>\n",
       "      <th>0</th>\n",
       "      <td>419805</td>\n",
       "      <td>6.0</td>\n",
       "      <td>2</td>\n",
       "      <td>0</td>\n",
       "      <td>0</td>\n",
       "      <td>1</td>\n",
       "      <td>0</td>\n",
       "      <td>0</td>\n",
       "      <td>0</td>\n",
       "      <td>2</td>\n",
       "      <td>0</td>\n",
       "      <td>1</td>\n",
       "      <td>0</td>\n",
       "      <td>0</td>\n",
       "      <td>0</td>\n",
       "    </tr>\n",
       "    <tr>\n",
       "      <th>1</th>\n",
       "      <td>10355</td>\n",
       "      <td>6.0</td>\n",
       "      <td>1</td>\n",
       "      <td>0</td>\n",
       "      <td>0</td>\n",
       "      <td>0</td>\n",
       "      <td>0</td>\n",
       "      <td>0</td>\n",
       "      <td>0</td>\n",
       "      <td>2</td>\n",
       "      <td>0</td>\n",
       "      <td>0</td>\n",
       "      <td>0</td>\n",
       "      <td>0</td>\n",
       "      <td>0</td>\n",
       "    </tr>\n",
       "    <tr>\n",
       "      <th>2</th>\n",
       "      <td>174534</td>\n",
       "      <td>6.0</td>\n",
       "      <td>1</td>\n",
       "      <td>0</td>\n",
       "      <td>0</td>\n",
       "      <td>1</td>\n",
       "      <td>1</td>\n",
       "      <td>0</td>\n",
       "      <td>0</td>\n",
       "      <td>2</td>\n",
       "      <td>0</td>\n",
       "      <td>1</td>\n",
       "      <td>0</td>\n",
       "      <td>0</td>\n",
       "      <td>0</td>\n",
       "    </tr>\n",
       "    <tr>\n",
       "      <th>3</th>\n",
       "      <td>428222</td>\n",
       "      <td>6.0</td>\n",
       "      <td>1</td>\n",
       "      <td>0</td>\n",
       "      <td>0</td>\n",
       "      <td>0</td>\n",
       "      <td>0</td>\n",
       "      <td>0</td>\n",
       "      <td>0</td>\n",
       "      <td>2</td>\n",
       "      <td>0</td>\n",
       "      <td>1</td>\n",
       "      <td>0</td>\n",
       "      <td>0</td>\n",
       "      <td>0</td>\n",
       "    </tr>\n",
       "    <tr>\n",
       "      <th>4</th>\n",
       "      <td>156604</td>\n",
       "      <td>NaN</td>\n",
       "      <td>1</td>\n",
       "      <td>0</td>\n",
       "      <td>0</td>\n",
       "      <td>1</td>\n",
       "      <td>1</td>\n",
       "      <td>0</td>\n",
       "      <td>0</td>\n",
       "      <td>2</td>\n",
       "      <td>0</td>\n",
       "      <td>1</td>\n",
       "      <td>0</td>\n",
       "      <td>0</td>\n",
       "      <td>0</td>\n",
       "    </tr>\n",
       "  </tbody>\n",
       "</table>\n",
       "</div>"
      ],
      "text/plain": [
       "   Unnamed: 0  传输等级  卡等级  线上交易  ip与设备地址匹配  ip在国外  ip为空  设备编码为空  ip异城市  设备异省  \\\n",
       "0      419805   6.0    2     0          0      1     0       0      0     2   \n",
       "1       10355   6.0    1     0          0      0     0       0      0     2   \n",
       "2      174534   6.0    1     0          0      1     1       0      0     2   \n",
       "3      428222   6.0    1     0          0      0     0       0      0     2   \n",
       "4      156604   NaN    1     0          0      1     1       0      0     2   \n",
       "\n",
       "   设备异城市  高风险交易标识  大额交易  异常时间  ip在高风险区域  \n",
       "0      0        1     0     0         0  \n",
       "1      0        0     0     0         0  \n",
       "2      0        1     0     0         0  \n",
       "3      0        1     0     0         0  \n",
       "4      0        1     0     0         0  "
      ]
     },
     "execution_count": 13,
     "metadata": {},
     "output_type": "execute_result"
    }
   ],
   "source": [
    "##导入数据\n",
    "dataset=pd.read_csv(r\"E:\\学习资料\\金融大数据\\信用卡盗刷预测模型\\信用卡数据.csv\",encoding=\"gbk\")\n",
    "dataset.head()"
   ]
  },
  {
   "cell_type": "code",
   "execution_count": 15,
   "id": "5681fa8a-e645-4f9a-8ac0-b0a701d2c4db",
   "metadata": {},
   "outputs": [
    {
     "data": {
      "text/plain": [
       "Unnamed: 0    0\n",
       "传输等级          3\n",
       "卡等级           0\n",
       "线上交易          0\n",
       "ip与设备地址匹配     0\n",
       "ip在国外         0\n",
       "ip为空          0\n",
       "设备编码为空        0\n",
       "ip异城市         0\n",
       "设备异省          0\n",
       "设备异城市         0\n",
       "高风险交易标识       0\n",
       "大额交易          0\n",
       "异常时间          0\n",
       "ip在高风险区域      0\n",
       "dtype: int64"
      ]
     },
     "execution_count": 15,
     "metadata": {},
     "output_type": "execute_result"
    }
   ],
   "source": [
    "#数据预处理\n",
    "dataset.isnull().sum()"
   ]
  },
  {
   "cell_type": "code",
   "execution_count": 146,
   "id": "07dd03f0-c603-4c49-8eb3-280ca0f801c4",
   "metadata": {},
   "outputs": [],
   "source": [
    "#去掉空值\n",
    "dataset=dataset.dropna()"
   ]
  },
  {
   "cell_type": "code",
   "execution_count": 117,
   "id": "1b541b68-eb69-4d53-99c2-eee1f2005337",
   "metadata": {},
   "outputs": [
    {
     "data": {
      "text/plain": [
       "Unnamed: 0    0\n",
       "传输等级          0\n",
       "卡等级           0\n",
       "线上交易          0\n",
       "ip与设备地址匹配     0\n",
       "ip在国外         0\n",
       "ip为空          0\n",
       "设备编码为空        0\n",
       "ip异城市         0\n",
       "设备异省          0\n",
       "设备异城市         0\n",
       "高风险交易标识       0\n",
       "大额交易          0\n",
       "异常时间          0\n",
       "ip在高风险区域      0\n",
       "dtype: int64"
      ]
     },
     "execution_count": 117,
     "metadata": {},
     "output_type": "execute_result"
    }
   ],
   "source": [
    "dataset.isnull().sum()"
   ]
  },
  {
   "cell_type": "code",
   "execution_count": 119,
   "id": "f3a2604f-dca5-46ea-a42c-3c1db3bf065c",
   "metadata": {},
   "outputs": [
    {
     "data": {
      "text/html": [
       "<div>\n",
       "<style scoped>\n",
       "    .dataframe tbody tr th:only-of-type {\n",
       "        vertical-align: middle;\n",
       "    }\n",
       "\n",
       "    .dataframe tbody tr th {\n",
       "        vertical-align: top;\n",
       "    }\n",
       "\n",
       "    .dataframe thead th {\n",
       "        text-align: right;\n",
       "    }\n",
       "</style>\n",
       "<table border=\"1\" class=\"dataframe\">\n",
       "  <thead>\n",
       "    <tr style=\"text-align: right;\">\n",
       "      <th></th>\n",
       "      <th>Unnamed: 0</th>\n",
       "      <th>传输等级</th>\n",
       "      <th>卡等级</th>\n",
       "      <th>线上交易</th>\n",
       "      <th>ip与设备地址匹配</th>\n",
       "      <th>ip在国外</th>\n",
       "      <th>ip为空</th>\n",
       "      <th>设备编码为空</th>\n",
       "      <th>ip异城市</th>\n",
       "      <th>设备异省</th>\n",
       "      <th>设备异城市</th>\n",
       "      <th>大额交易</th>\n",
       "      <th>异常时间</th>\n",
       "      <th>ip在高风险区域</th>\n",
       "    </tr>\n",
       "    <tr>\n",
       "      <th>高风险交易标识</th>\n",
       "      <th></th>\n",
       "      <th></th>\n",
       "      <th></th>\n",
       "      <th></th>\n",
       "      <th></th>\n",
       "      <th></th>\n",
       "      <th></th>\n",
       "      <th></th>\n",
       "      <th></th>\n",
       "      <th></th>\n",
       "      <th></th>\n",
       "      <th></th>\n",
       "      <th></th>\n",
       "      <th></th>\n",
       "    </tr>\n",
       "  </thead>\n",
       "  <tbody>\n",
       "    <tr>\n",
       "      <th>0</th>\n",
       "      <td>34723</td>\n",
       "      <td>34723</td>\n",
       "      <td>34723</td>\n",
       "      <td>34723</td>\n",
       "      <td>34723</td>\n",
       "      <td>34723</td>\n",
       "      <td>34723</td>\n",
       "      <td>34723</td>\n",
       "      <td>34723</td>\n",
       "      <td>34723</td>\n",
       "      <td>34723</td>\n",
       "      <td>34723</td>\n",
       "      <td>34723</td>\n",
       "      <td>34723</td>\n",
       "    </tr>\n",
       "    <tr>\n",
       "      <th>1</th>\n",
       "      <td>65269</td>\n",
       "      <td>65269</td>\n",
       "      <td>65269</td>\n",
       "      <td>65269</td>\n",
       "      <td>65269</td>\n",
       "      <td>65269</td>\n",
       "      <td>65269</td>\n",
       "      <td>65269</td>\n",
       "      <td>65269</td>\n",
       "      <td>65269</td>\n",
       "      <td>65269</td>\n",
       "      <td>65269</td>\n",
       "      <td>65269</td>\n",
       "      <td>65269</td>\n",
       "    </tr>\n",
       "  </tbody>\n",
       "</table>\n",
       "</div>"
      ],
      "text/plain": [
       "         Unnamed: 0   传输等级    卡等级   线上交易  ip与设备地址匹配  ip在国外   ip为空  设备编码为空  \\\n",
       "高风险交易标识                                                                     \n",
       "0             34723  34723  34723  34723      34723  34723  34723   34723   \n",
       "1             65269  65269  65269  65269      65269  65269  65269   65269   \n",
       "\n",
       "         ip异城市   设备异省  设备异城市   大额交易   异常时间  ip在高风险区域  \n",
       "高风险交易标识                                               \n",
       "0        34723  34723  34723  34723  34723     34723  \n",
       "1        65269  65269  65269  65269  65269     65269  "
      ]
     },
     "execution_count": 119,
     "metadata": {},
     "output_type": "execute_result"
    }
   ],
   "source": [
    "dataset.groupby(\"高风险交易标识\").count()"
   ]
  },
  {
   "cell_type": "markdown",
   "id": "1eab6ba7-2153-4105-a1b6-2771a6036726",
   "metadata": {},
   "source": [
    "1关联性分析：\n",
    "皮尔森相关系数常用来描述变量之间的关联程度，当皮尔森相关系数为正时，表示变量为正相关，反之为负相关。\n",
    "保留相关系数较大的，去除相关系数少的"
   ]
  },
  {
   "cell_type": "code",
   "execution_count": 122,
   "id": "0455c91a-6750-41ec-b3a3-4718a5086f7f",
   "metadata": {},
   "outputs": [],
   "source": [
    "##获得数据框的所有列名\n",
    "cols=list(dataset.keys())"
   ]
  },
  {
   "cell_type": "code",
   "execution_count": 124,
   "id": "608d58b8-8228-467c-aa76-dfa787c2c23b",
   "metadata": {},
   "outputs": [],
   "source": [
    "new_dataset=dataset[cols[1:]]##去掉第一个列\n",
    "datacorr=new_dataset.corr()[\"高风险交易标识\"]##计算所有变量与变量target之间的相关系数\n",
    "lst_corr=datacorr.tolist()##将相关系数保存到列表里"
   ]
  },
  {
   "cell_type": "code",
   "execution_count": 126,
   "id": "34e611d0-4208-4993-94db-466ca8cecda2",
   "metadata": {},
   "outputs": [],
   "source": [
    "##选择与变量target的相关系数大于0.02的变量用来建立模型\n",
    "new_cols=cols[1:]\n",
    "final_cols=[]##保存符合要求的变量名\n",
    "for i in range(len(lst_corr)):\n",
    "    if lst_corr[i]>0.02 or lst_corr[i]<-0.02:\n",
    "        final_cols.append(new_cols[i])"
   ]
  },
  {
   "cell_type": "code",
   "execution_count": 128,
   "id": "d99838d2-8bf5-4d6a-89e7-6f222f1b5f4c",
   "metadata": {},
   "outputs": [
    {
     "data": {
      "text/plain": [
       "True"
      ]
     },
     "execution_count": 128,
     "metadata": {},
     "output_type": "execute_result"
    }
   ],
   "source": [
    "\"高风险交易标识\" in final_cols"
   ]
  },
  {
   "cell_type": "code",
   "execution_count": 130,
   "id": "65160b2c-d4af-4177-a949-fc80cc1704d7",
   "metadata": {},
   "outputs": [],
   "source": [
    "final_cols=[i for i in final_cols if i!=\"高风险交易标识\"]\n",
    "X=dataset[final_cols]\n",
    "Y=dataset[\"高风险交易标识\"]\n",
    "x_train,x_test,y_train,y_test=train_test_split(X,Y,train_size=0.8)##分割数据集"
   ]
  },
  {
   "cell_type": "code",
   "execution_count": 132,
   "id": "c0af5324-e919-46e3-8443-df1dd9256e48",
   "metadata": {},
   "outputs": [],
   "source": [
    "logistic=LogisticRegression(fit_intercept=True,max_iter=10000)##括号里含义是加上截距项的计算(一般情况下都是加上的)\n",
    "#其中max_iter用来设置最大训练次数以防止训练次数过小导致模型训练到最后无法收敛出最终结果！！！"
   ]
  },
  {
   "cell_type": "code",
   "execution_count": 134,
   "id": "05439a47-2b95-4691-9ba7-6923adab3c78",
   "metadata": {},
   "outputs": [],
   "source": [
    "#模型训练\n",
    "model=logistic.fit(x_train,y_train)"
   ]
  },
  {
   "cell_type": "code",
   "execution_count": 136,
   "id": "08e8455d-6a88-46c0-b786-b2c614e05fa2",
   "metadata": {},
   "outputs": [
    {
     "data": {
      "text/plain": [
       "array([1, 0, 1, ..., 1, 1, 1], dtype=int64)"
      ]
     },
     "execution_count": 136,
     "metadata": {},
     "output_type": "execute_result"
    }
   ],
   "source": [
    "##用训练好的模型进行预测\n",
    "pre_y=model.predict(x_test)\n",
    "pre_y"
   ]
  },
  {
   "cell_type": "code",
   "execution_count": 138,
   "id": "67392ed8-ba03-4267-94c9-078e43224f77",
   "metadata": {},
   "outputs": [
    {
     "data": {
      "text/plain": [
       "0.8658432921646082"
      ]
     },
     "execution_count": 138,
     "metadata": {},
     "output_type": "execute_result"
    }
   ],
   "source": [
    "##计算残差平方和\n",
    "res=(y_test==pre_y).mean()\n",
    "res"
   ]
  },
  {
   "cell_type": "code",
   "execution_count": 140,
   "id": "646b3835-79bc-4380-bb44-01f4163f0a09",
   "metadata": {},
   "outputs": [
    {
     "data": {
      "text/plain": [
       "0.8658432921646082"
      ]
     },
     "execution_count": 140,
     "metadata": {},
     "output_type": "execute_result"
    }
   ],
   "source": [
    "##计算模型准确度##\n",
    "point=accuracy_score(y_test,pre_y)\n",
    "point"
   ]
  },
  {
   "cell_type": "code",
   "execution_count": 142,
   "id": "05e88eec-005e-4c52-955a-a3908c1cdea4",
   "metadata": {},
   "outputs": [
    {
     "data": {
      "text/plain": [
       "array([[ 5258,  1697],\n",
       "       [  986, 12058]], dtype=int64)"
      ]
     },
     "execution_count": 142,
     "metadata": {},
     "output_type": "execute_result"
    }
   ],
   "source": [
    "##计算混淆矩阵\n",
    "from sklearn.metrics import confusion_matrix\n",
    "matrix=confusion_matrix(y_test,pre_y)\n",
    "matrix"
   ]
  },
  {
   "cell_type": "code",
   "execution_count": 150,
   "id": "da30799b-64a3-4a7b-ac14-f55619b4b35d",
   "metadata": {},
   "outputs": [
    {
     "data": {
      "text/plain": [
       "[<matplotlib.lines.Line2D at 0x27eaa9819d0>]"
      ]
     },
     "execution_count": 150,
     "metadata": {},
     "output_type": "execute_result"
    },
    {
     "data": {
      "image/png": "[encoded data removed]",
      "text/plain": [
       "<Figure size 1000x600 with 1 Axes>"
      ]
     },
     "metadata": {},
     "output_type": "display_data"
    }
   ],
   "source": [
    "plt.figure(figsize=(10, 6))  # 设置图像大小\n",
    "plt.plot(y_test, label='True Labels (y_test)')  # 绘制真实标签的线性图\n",
    "plt.plot(pre_y, label='Predicted Labels (pre_y)')  # 绘制预测标签的线性图"
   ]
  },
  {
   "cell_type": "code",
   "execution_count": null,
   "id": "36f9b28c-67c2-4a7f-a9d1-e9ae6927becd",
   "metadata": {},
   "outputs": [],
   "source": []
  }
 ],
 "metadata": {
  "kernelspec": {
   "display_name": "Python [conda env:base] *",
   "language": "python",
   "name": "conda-base-py"
  },
  "language_info": {
   "codemirror_mode": {
    "name": "ipython",
    "version": 3
   },
   "file_extension": ".py",
   "mimetype": "text/x-python",
   "name": "python",
   "nbconvert_exporter": "python",
   "pygments_lexer": "ipython3",
   "version": "3.12.7"
  }
 },
 "nbformat": 4,
 "nbformat_minor": 5
}
